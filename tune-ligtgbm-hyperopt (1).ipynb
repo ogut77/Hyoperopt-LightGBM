{
 "cells": [
  {
   "cell_type": "code",
   "execution_count": 1,
   "metadata": {},
   "outputs": [
    {
     "name": "stdout",
     "output_type": "stream",
     "text": [
      "['dta3.csv']\n"
     ]
    }
   ],
   "source": [
    "# This Python 3 environment comes with many helpful analytics libraries installed\n",
    "# It is defined by the kaggle/python docker image: https://github.com/kaggle/docker-python\n",
    "# For example, here's several helpful packages to load in \n",
    "\n",
    "import numpy as np # linear algebra\n",
    "import pandas as pd # data processing, CSV file I/O (e.g. pd.read_csv)\n",
    "\n",
    "# Input data files are available in the \"../input/\" directory.\n",
    "# For example, running this (by clicking run or pressing Shift+Enter) will list the files in the input directory\n",
    "\n",
    "import os\n",
    "print(os.listdir(\"../input\"))\n",
    "\n",
    "# Any results you write to the current directory are saved as output."
   ]
  },
  {
   "cell_type": "code",
   "execution_count": 2,
   "metadata": {
    "colab": {
     "base_uri": "https://localhost:8080/",
     "height": 70
    },
    "colab_type": "code",
    "id": "WFQS_bltWW_9",
    "outputId": "8893a0f5-a65e-452f-a3e7-576c4d179c3f"
   },
   "outputs": [
    {
     "name": "stderr",
     "output_type": "stream",
     "text": [
      "/opt/conda/lib/python3.6/site-packages/IPython/core/interactiveshell.py:2785: DtypeWarning: Columns (4) have mixed types. Specify dtype option on import or set low_memory=False.\n",
      "  interactivity=interactivity, compiler=compiler, result=result)\n"
     ]
    }
   ],
   "source": [
    "dt=pd.read_csv('../input/dta3.csv')\n"
   ]
  },
  {
   "cell_type": "code",
   "execution_count": 3,
   "metadata": {
    "colab": {},
    "colab_type": "code",
    "id": "G2RPlS6cDTno"
   },
   "outputs": [],
   "source": [
    "dt=pd.get_dummies(dt)"
   ]
  },
  {
   "cell_type": "code",
   "execution_count": 4,
   "metadata": {
    "colab": {},
    "colab_type": "code",
    "id": "vL2kPolFERq2"
   },
   "outputs": [],
   "source": [
    "dt=dt.drop(columns=['B_ELECTRONIC_AUCTION_N','PROCEDURE_RES','SECTOR_na','B_GPA_N','TYPE_OF_CONTRACT_W','CAE_TYPE_Z','AUTHORITY_COUNTRY_UK'] )"
   ]
  },
  {
   "cell_type": "code",
   "execution_count": 5,
   "metadata": {
    "colab": {
     "base_uri": "https://localhost:8080/",
     "height": 167
    },
    "colab_type": "code",
    "id": "qBCKCDd619e0",
    "outputId": "08abb929-7303-4a67-d20c-98bb20ab7a5f"
   },
   "outputs": [
    {
     "name": "stdout",
     "output_type": "stream",
     "text": [
      "Index(['YEAR', 'NUMBER_OFFERS', 'AWARD_EST_VALUE_EURO', 'AWARD_VALUE_EURO',\n",
      "       'AUTHORITY_COUNTRY_AT', 'AUTHORITY_COUNTRY_BE', 'AUTHORITY_COUNTRY_BG',\n",
      "       'AUTHORITY_COUNTRY_CH', 'AUTHORITY_COUNTRY_CY', 'AUTHORITY_COUNTRY_CZ',\n",
      "       ...\n",
      "       'SECTOR_93', 'SECTOR_98', 'B_GPA_Y', 'PROCEDURE_AWP', 'PROCEDURE_COD',\n",
      "       'PROCEDURE_INP', 'PROCEDURE_NIC', 'PROCEDURE_NOC', 'PROCEDURE_OPE',\n",
      "       'B_ELECTRONIC_AUCTION_Y'],\n",
      "      dtype='object', length=145)\n"
     ]
    },
    {
     "data": {
      "text/plain": [
       "2875612"
      ]
     },
     "execution_count": 5,
     "metadata": {},
     "output_type": "execute_result"
    }
   ],
   "source": [
    "print(dt.columns)\n",
    "len(dt)"
   ]
  },
  {
   "cell_type": "code",
   "execution_count": 6,
   "metadata": {
    "colab": {
     "base_uri": "https://localhost:8080/",
     "height": 33
    },
    "colab_type": "code",
    "id": "56FUVhiTaq4t",
    "outputId": "a0653409-88cb-4435-9fd0-b4ae19c8fba8"
   },
   "outputs": [
    {
     "data": {
      "text/plain": [
       "2875612"
      ]
     },
     "execution_count": 6,
     "metadata": {},
     "output_type": "execute_result"
    }
   ],
   "source": [
    "dt = dt[pd.notnull(dt['AWARD_VALUE_EURO'])]\n",
    "dt = dt[dt['AWARD_VALUE_EURO'] != 0]\n",
    "len(dt)\n",
    "\n"
   ]
  },
  {
   "cell_type": "code",
   "execution_count": 7,
   "metadata": {
    "colab": {
     "base_uri": "https://localhost:8080/",
     "height": 33
    },
    "colab_type": "code",
    "id": "y983RQy_2OiQ",
    "outputId": "01c4db85-01bc-43e3-b3a0-1bfba965a96d"
   },
   "outputs": [
    {
     "data": {
      "text/plain": [
       "1476395"
      ]
     },
     "execution_count": 7,
     "metadata": {},
     "output_type": "execute_result"
    }
   ],
   "source": [
    "dt = dt[pd.notnull(dt['AWARD_EST_VALUE_EURO'])]\n",
    "dt = dt[dt['AWARD_EST_VALUE_EURO'] != 0]\n",
    "len(dt)\n",
    "\n"
   ]
  },
  {
   "cell_type": "code",
   "execution_count": 8,
   "metadata": {
    "colab": {
     "base_uri": "https://localhost:8080/",
     "height": 33
    },
    "colab_type": "code",
    "id": "tvW0BfKb2Wc6",
    "outputId": "627e9679-ad10-4dcc-a52e-70d6cc10666b"
   },
   "outputs": [
    {
     "data": {
      "text/plain": [
       "1433056"
      ]
     },
     "execution_count": 8,
     "metadata": {},
     "output_type": "execute_result"
    }
   ],
   "source": [
    "dt = dt[pd.notnull(dt['NUMBER_OFFERS'])]\n",
    "dt = dt[dt['NUMBER_OFFERS'] != 0]\n",
    "len(dt)"
   ]
  },
  {
   "cell_type": "code",
   "execution_count": 9,
   "metadata": {
    "colab": {
     "base_uri": "https://localhost:8080/",
     "height": 33
    },
    "colab_type": "code",
    "id": "URwhUOth2e0v",
    "outputId": "64c3e1db-1627-4c27-8b52-c9784a97f36d"
   },
   "outputs": [
    {
     "data": {
      "text/plain": [
       "1433056"
      ]
     },
     "execution_count": 9,
     "metadata": {},
     "output_type": "execute_result"
    }
   ],
   "source": [
    "import numpy as np\n",
    "dt['LNRATIO']=(np.log(dt['AWARD_VALUE_EURO']/dt['AWARD_EST_VALUE_EURO']))\n",
    "len(dt)\n"
   ]
  },
  {
   "cell_type": "code",
   "execution_count": 10,
   "metadata": {
    "colab": {},
    "colab_type": "code",
    "id": "lWmCx0iO3xmt"
   },
   "outputs": [],
   "source": [
    "#log of 'df_train['month'] = pd.to_datetime(df_train.Date).dt.month\n",
    "dt['LN_AWARD_VALUE_EURO'] = np.log(dt['AWARD_VALUE_EURO'])\n",
    "dt['LN_AWARD_EST_VALUE_EURO'] = np.log(dt['AWARD_EST_VALUE_EURO'])"
   ]
  },
  {
   "cell_type": "code",
   "execution_count": 11,
   "metadata": {},
   "outputs": [],
   "source": [
    "dt2=dt"
   ]
  },
  {
   "cell_type": "code",
   "execution_count": 12,
   "metadata": {
    "colab": {},
    "colab_type": "code",
    "id": "PAo227hHrP6S"
   },
   "outputs": [],
   "source": [
    "dt = dt[(dt.LNRATIO>-1.386) & (dt.LNRATIO<0.642)]\n"
   ]
  },
  {
   "cell_type": "code",
   "execution_count": 13,
   "metadata": {
    "colab": {},
    "colab_type": "code",
    "id": "i-GP06HGl_lG"
   },
   "outputs": [],
   "source": [
    "train=dt[(dt.YEAR<2017)]\n",
    "test=dt[(dt.YEAR==2017)]"
   ]
  },
  {
   "cell_type": "code",
   "execution_count": 14,
   "metadata": {
    "colab": {},
    "colab_type": "code",
    "id": "4Bm9jfr_l_1N"
   },
   "outputs": [],
   "source": [
    "y_train = train['LNRATIO']\n",
    "X_train = train.drop(['AWARD_VALUE_EURO', 'AWARD_EST_VALUE_EURO', 'LNRATIO', 'LN_AWARD_VALUE_EURO'], axis=1)\n",
    "y_test = test['LNRATIO']\n",
    "X_test = test.drop(['AWARD_VALUE_EURO', 'AWARD_EST_VALUE_EURO',  'LNRATIO' ,'LN_AWARD_VALUE_EURO'], axis=1)\n"
   ]
  },
  {
   "cell_type": "code",
   "execution_count": 15,
   "metadata": {},
   "outputs": [],
   "source": [
    "import math\n",
    "from scipy.stats import spearmanr\n",
    "def rmse(x,y): return math.sqrt(((x-y)**2).mean())\n",
    "def print_score(m):\n",
    "    print('Train rmse '+str(rmse(m.predict(X_train), y_train))) \n",
    "    print('Test  rmse '+str(rmse(m.predict(X_test), y_test)))\n",
    "    print('Train '+str(spearmanr(m.predict(X_train),y_train)))\n",
    "    print('Test  '+str(spearmanr(m.predict(X_test),y_test)))"
   ]
  },
  {
   "cell_type": "code",
   "execution_count": 16,
   "metadata": {},
   "outputs": [],
   "source": [
    "import numpy as np\n",
    "import pandas as pd\n",
    "\n",
    "from hyperopt import fmin, hp, tpe, Trials, space_eval\n",
    "from hyperopt.fmin import fmin\n",
    "\n",
    "from sklearn.model_selection import cross_val_score, StratifiedKFold\n",
    "from sklearn.ensemble import RandomForestRegressor\n",
    "from sklearn.metrics import make_scorer\n",
    "\n",
    "import xgboost as xgb\n",
    "\n",
    "import lightgbm as lgbm"
   ]
  },
  {
   "cell_type": "code",
   "execution_count": 17,
   "metadata": {},
   "outputs": [
    {
     "name": "stdout",
     "output_type": "stream",
     "text": [
      "Gini -0.07530 params {'n_estimators': 1186, 'max_depth': 16, 'num_leaves': 63, 'subsample': '0.608', 'colsample_bytree': '0.709'}\n",
      "Gini -0.07477 params {'n_estimators': 1842, 'max_depth': 4, 'num_leaves': 63, 'subsample': '0.879', 'colsample_bytree': '0.677'}\n",
      "Gini -0.07624 params {'n_estimators': 1547, 'max_depth': 16, 'num_leaves': 2, 'subsample': '0.822', 'colsample_bytree': '0.869'}\n",
      "Gini -0.07624 params {'n_estimators': 1784, 'max_depth': 4, 'num_leaves': 2, 'subsample': '0.705', 'colsample_bytree': '0.894'}\n",
      "Gini -0.07473 params {'n_estimators': 1818, 'max_depth': 4, 'num_leaves': 127, 'subsample': '0.790', 'colsample_bytree': '0.724'}\n",
      "Gini -0.07580 params {'n_estimators': 1003, 'max_depth': 16, 'num_leaves': 127, 'subsample': '0.602', 'colsample_bytree': '0.606'}\n",
      "Gini -0.07668 params {'n_estimators': 1791, 'max_depth': 16, 'num_leaves': 63, 'subsample': '0.951', 'colsample_bytree': '0.901'}\n",
      "Gini -0.07624 params {'n_estimators': 1858, 'max_depth': 16, 'num_leaves': 2, 'subsample': '0.624', 'colsample_bytree': '0.797'}\n",
      "Gini -0.07459 params {'n_estimators': 1283, 'max_depth': 4, 'num_leaves': 63, 'subsample': '0.645', 'colsample_bytree': '0.618'}\n",
      "Gini -0.07623 params {'n_estimators': 1615, 'max_depth': -1, 'num_leaves': 2, 'subsample': '0.925', 'colsample_bytree': '0.922'}\n",
      "Gini -0.07570 params {'n_estimators': 1613, 'max_depth': 16, 'num_leaves': 31, 'subsample': '0.811', 'colsample_bytree': '0.938'}\n",
      "Gini -0.07625 params {'n_estimators': 1831, 'max_depth': 16, 'num_leaves': 2, 'subsample': '0.803', 'colsample_bytree': '0.872'}\n",
      "Gini -0.07485 params {'n_estimators': 1747, 'max_depth': 4, 'num_leaves': 127, 'subsample': '0.902', 'colsample_bytree': '0.783'}\n",
      "Gini -0.07624 params {'n_estimators': 1260, 'max_depth': -1, 'num_leaves': 2, 'subsample': '0.621', 'colsample_bytree': '0.950'}\n",
      "Gini -0.07624 params {'n_estimators': 1650, 'max_depth': 4, 'num_leaves': 2, 'subsample': '0.621', 'colsample_bytree': '0.718'}\n",
      "Gini -0.07644 params {'n_estimators': 1405, 'max_depth': -1, 'num_leaves': 127, 'subsample': '0.872', 'colsample_bytree': '0.615'}\n",
      "Gini -0.07477 params {'n_estimators': 1796, 'max_depth': 4, 'num_leaves': 10, 'subsample': '0.920', 'colsample_bytree': '0.768'}\n",
      "Gini -0.07586 params {'n_estimators': 1324, 'max_depth': 16, 'num_leaves': 63, 'subsample': '0.934', 'colsample_bytree': '0.734'}\n",
      "Gini -0.07541 params {'n_estimators': 1425, 'max_depth': 16, 'num_leaves': 31, 'subsample': '0.916', 'colsample_bytree': '0.840'}\n",
      "Gini -0.07786 params {'n_estimators': 1444, 'max_depth': 16, 'num_leaves': 127, 'subsample': '0.992', 'colsample_bytree': '0.820'}\n",
      "Gini -0.07463 params {'n_estimators': 1818, 'max_depth': 8, 'num_leaves': 10, 'subsample': '0.718', 'colsample_bytree': '0.652'}\n",
      "Gini -0.07463 params {'n_estimators': 1824, 'max_depth': 8, 'num_leaves': 10, 'subsample': '0.685', 'colsample_bytree': '0.648'}\n",
      "Gini -0.07461 params {'n_estimators': 1407, 'max_depth': 8, 'num_leaves': 10, 'subsample': '0.709', 'colsample_bytree': '0.647'}\n",
      "Gini -0.07466 params {'n_estimators': 1504, 'max_depth': 8, 'num_leaves': 10, 'subsample': '0.661', 'colsample_bytree': '0.606'}\n",
      "Gini -0.07449 params {'n_estimators': 1046, 'max_depth': 8, 'num_leaves': 10, 'subsample': '0.746', 'colsample_bytree': '0.651'}\n",
      "Gini -0.07572 params {'n_estimators': 1226, 'max_depth': 8, 'num_leaves': 63, 'subsample': '0.757', 'colsample_bytree': '0.682'}\n",
      "Gini -0.07483 params {'n_estimators': 1871, 'max_depth': 8, 'num_leaves': 10, 'subsample': '0.754', 'colsample_bytree': '0.993'}\n",
      "Gini -0.07641 params {'n_estimators': 1648, 'max_depth': 8, 'num_leaves': 63, 'subsample': '0.660', 'colsample_bytree': '0.751'}\n",
      "Gini -0.07476 params {'n_estimators': 1362, 'max_depth': 4, 'num_leaves': 31, 'subsample': '0.749', 'colsample_bytree': '0.688'}\n",
      "Gini -0.07548 params {'n_estimators': 1173, 'max_depth': -1, 'num_leaves': 63, 'subsample': '0.845', 'colsample_bytree': '0.628'}\n",
      "Gini -0.07471 params {'n_estimators': 1329, 'max_depth': 4, 'num_leaves': 63, 'subsample': '0.653', 'colsample_bytree': '0.696'}\n",
      "Gini -0.07462 params {'n_estimators': 1233, 'max_depth': 8, 'num_leaves': 10, 'subsample': '0.732', 'colsample_bytree': '0.670'}\n",
      "Gini -0.07475 params {'n_estimators': 1745, 'max_depth': 4, 'num_leaves': 63, 'subsample': '0.780', 'colsample_bytree': '0.632'}\n",
      "Gini -0.07461 params {'n_estimators': 1009, 'max_depth': 4, 'num_leaves': 10, 'subsample': '0.685', 'colsample_bytree': '0.662'}\n",
      "Gini -0.07516 params {'n_estimators': 1414, 'max_depth': 8, 'num_leaves': 31, 'subsample': '0.843', 'colsample_bytree': '0.745'}\n",
      "Gini -0.07467 params {'n_estimators': 1538, 'max_depth': 4, 'num_leaves': 63, 'subsample': '0.691', 'colsample_bytree': '0.602'}\n",
      "Gini -0.07537 params {'n_estimators': 1046, 'max_depth': -1, 'num_leaves': 63, 'subsample': '0.638', 'colsample_bytree': '0.706'}\n",
      "Gini -0.07496 params {'n_estimators': 1175, 'max_depth': 4, 'num_leaves': 10, 'subsample': '0.768', 'colsample_bytree': '0.839'}\n",
      "Gini -0.07655 params {'n_estimators': 1868, 'max_depth': 8, 'num_leaves': 63, 'subsample': '0.724', 'colsample_bytree': '0.631'}\n",
      "Gini -0.07472 params {'n_estimators': 1199, 'max_depth': 4, 'num_leaves': 31, 'subsample': '0.606', 'colsample_bytree': '0.769'}\n",
      "Gini -0.07793 params {'n_estimators': 1974, 'max_depth': 8, 'num_leaves': 127, 'subsample': '0.835', 'colsample_bytree': '0.979'}\n",
      "Gini -0.07475 params {'n_estimators': 1847, 'max_depth': -1, 'num_leaves': 10, 'subsample': '0.789', 'colsample_bytree': '0.711'}\n",
      "Gini -0.07624 params {'n_estimators': 1939, 'max_depth': 4, 'num_leaves': 2, 'subsample': '0.990', 'colsample_bytree': '0.796'}\n",
      "Gini -0.07598 params {'n_estimators': 1232, 'max_depth': 8, 'num_leaves': 63, 'subsample': '0.877', 'colsample_bytree': '0.669'}\n",
      "Gini -0.07459 params {'n_estimators': 1284, 'max_depth': 4, 'num_leaves': 127, 'subsample': '0.735', 'colsample_bytree': '0.622'}\n",
      "Gini -0.07764 params {'n_estimators': 1689, 'max_depth': -1, 'num_leaves': 127, 'subsample': '0.816', 'colsample_bytree': '0.818'}\n",
      "Gini -0.07486 params {'n_estimators': 1703, 'max_depth': 4, 'num_leaves': 127, 'subsample': '0.735', 'colsample_bytree': '0.727'}\n",
      "Gini -0.07796 params {'n_estimators': 1610, 'max_depth': 16, 'num_leaves': 127, 'subsample': '0.864', 'colsample_bytree': '0.885'}\n",
      "Gini -0.07459 params {'n_estimators': 1165, 'max_depth': 4, 'num_leaves': 127, 'subsample': '0.673', 'colsample_bytree': '0.602'}\n",
      "Gini -0.07613 params {'n_estimators': 1091, 'max_depth': 8, 'num_leaves': 127, 'subsample': '0.702', 'colsample_bytree': '0.763'}\n",
      "100%|██████████| 50/50 [1:07:53<00:00, 98.08s/it, best loss: 0.07448583092914307]\n"
     ]
    }
   ],
   "source": [
    "def objective(params,X,y):\n",
    "    params = {\n",
    "              'n_estimators': int(params['n_estimators']),\n",
    "               'max_depth': int(params['max_depth']),\n",
    "               'num_leaves':int(params['num_leaves']),\n",
    "               'subsample': '{:.3f}'.format(params['subsample']),     \n",
    "        'colsample_bytree': '{:.3f}'.format(params['colsample_bytree'])\n",
    "    }\n",
    "    \n",
    "    clf = lgbm.LGBMRegressor(\n",
    "        learning_rate=0.1,\n",
    "        **params\n",
    "    )\n",
    "    \n",
    "    score = cross_val_score(clf, X, y, scoring='neg_mean_squared_error', cv=2).mean()\n",
    "    print(\"Gini {:.5f} params {}\".format(score, params))\n",
    "    return score\n",
    "hyperopt_objective = lambda params: (-1)*objective(params, X_train, y_train)\n",
    "sp = {\n",
    "        'n_estimators': 1000+ hp.randint('n_estimators', 1000),\n",
    "               'max_depth':  hp.choice('max_depth', [-1,4, 8, 16 ]),\n",
    "               'num_leaves': hp.choice('num_leaves', [2,10, 31, 63, 127]),\n",
    "               'subsample': hp.uniform('subsample', 0.6, 1.0),\n",
    "               'colsample_bytree': hp.uniform('colsample_bytree', 0.6, 1.0)\n",
    "    }\n",
    "\n",
    "\n",
    "best = fmin(fn=hyperopt_objective,\n",
    "            space=sp,\n",
    "            algo=tpe.suggest,\n",
    "            max_evals=50)"
   ]
  },
  {
   "cell_type": "code",
   "execution_count": 18,
   "metadata": {},
   "outputs": [
    {
     "name": "stdout",
     "output_type": "stream",
     "text": [
      "BEST PARAMETERS: {'colsample_bytree': 0.6514488804199975, 'max_depth': 8, 'n_estimators': 1046, 'num_leaves': 10, 'subsample': 0.7456398460691518}\n"
     ]
    }
   ],
   "source": [
    "best_params = space_eval(sp, best)\n",
    "print(\"BEST PARAMETERS: \" + str(best_params))"
   ]
  },
  {
   "cell_type": "code",
   "execution_count": 19,
   "metadata": {},
   "outputs": [
    {
     "name": "stdout",
     "output_type": "stream",
     "text": [
      "RMSE SCORE ON TEST DATA: 0.2601090504493204\n",
      "RMSE SCORE ON TEST DATA: 0.2601090504493204\n"
     ]
    }
   ],
   "source": [
    "\n",
    "from sklearn.metrics import r2_score\n",
    "est = lgbm.LGBMRegressor(**best_params) \n",
    "# Fit    \n",
    "est.fit(X_train, y_train)\n",
    "y_pred = est.predict(X_test)\n",
    " \n",
    "# Predict\n",
    "score = rmse(y_test, y_pred)\n",
    "\n",
    "print(\"RMSE SCORE ON TEST DATA: {}\".format(score))\n",
    "r2a = r2_score(y_test, y_pred)\n",
    "print(\"RMSE SCORE ON TEST DATA: {}\".format(score))"
   ]
  }
 ],
 "metadata": {
  "colab": {
   "collapsed_sections": [],
   "name": "EUAuction200419.ipynb",
   "provenance": [],
   "version": "0.3.2"
  },
  "kernelspec": {
   "display_name": "Python 3",
   "name": "python3"
  }
 },
 "nbformat": 4,
 "nbformat_minor": 1
}

{
 "cells": [
  {
   "cell_type": "code",
   "execution_count": 1,
   "metadata": {},
   "outputs": [
    {
     "name": "stdout",
     "output_type": "stream",
     "text": [
      "['dta3.csv']\n"
     ]
    }
   ],
   "source": [
    "# This Python 3 environment comes with many helpful analytics libraries installed\n",
    "# It is defined by the kaggle/python docker image: https://github.com/kaggle/docker-python\n",
    "# For example, here's several helpful packages to load in \n",
    "\n",
    "import numpy as np # linear algebra\n",
    "import pandas as pd # data processing, CSV file I/O (e.g. pd.read_csv)\n",
    "\n",
    "# Input data files are available in the \"../input/\" directory.\n",
    "# For example, running this (by clicking run or pressing Shift+Enter) will list the files in the input directory\n",
    "\n",
    "import os\n",
    "print(os.listdir(\"../input\"))\n",
    "\n",
    "# Any results you write to the current directory are saved as output."
   ]
  },
  {
   "cell_type": "code",
   "execution_count": 2,
   "metadata": {
    "colab": {
     "base_uri": "https://localhost:8080/",
     "height": 70
    },
    "colab_type": "code",
    "id": "WFQS_bltWW_9",
    "outputId": "8893a0f5-a65e-452f-a3e7-576c4d179c3f"
   },
   "outputs": [
    {
     "name": "stderr",
     "output_type": "stream",
     "text": [
      "/opt/conda/lib/python3.6/site-packages/IPython/core/interactiveshell.py:2785: DtypeWarning: Columns (4) have mixed types. Specify dtype option on import or set low_memory=False.\n",
      "  interactivity=interactivity, compiler=compiler, result=result)\n"
     ]
    }
   ],
   "source": [
    "dt=pd.read_csv('../input/dta3.csv')\n"
   ]
  },
  {
   "cell_type": "code",
   "execution_count": 3,
   "metadata": {
    "colab": {},
    "colab_type": "code",
    "id": "G2RPlS6cDTno"
   },
   "outputs": [],
   "source": [
    "dt=pd.get_dummies(dt)"
   ]
  },
  {
   "cell_type": "code",
   "execution_count": 4,
   "metadata": {
    "colab": {},
    "colab_type": "code",
    "id": "vL2kPolFERq2"
   },
   "outputs": [],
   "source": [
    "dt=dt.drop(columns=['B_ELECTRONIC_AUCTION_N','PROCEDURE_RES','SECTOR_na','B_GPA_N','TYPE_OF_CONTRACT_W','CAE_TYPE_Z','AUTHORITY_COUNTRY_UK'] )"
   ]
  },
  {
   "cell_type": "code",
   "execution_count": 5,
   "metadata": {
    "colab": {
     "base_uri": "https://localhost:8080/",
     "height": 167
    },
    "colab_type": "code",
    "id": "qBCKCDd619e0",
    "outputId": "08abb929-7303-4a67-d20c-98bb20ab7a5f"
   },
   "outputs": [
    {
     "name": "stdout",
     "output_type": "stream",
     "text": [
      "Index(['YEAR', 'NUMBER_OFFERS', 'AWARD_EST_VALUE_EURO', 'AWARD_VALUE_EURO',\n",
      "       'AUTHORITY_COUNTRY_AT', 'AUTHORITY_COUNTRY_BE', 'AUTHORITY_COUNTRY_BG',\n",
      "       'AUTHORITY_COUNTRY_CH', 'AUTHORITY_COUNTRY_CY', 'AUTHORITY_COUNTRY_CZ',\n",
      "       ...\n",
      "       'SECTOR_93', 'SECTOR_98', 'B_GPA_Y', 'PROCEDURE_AWP', 'PROCEDURE_COD',\n",
      "       'PROCEDURE_INP', 'PROCEDURE_NIC', 'PROCEDURE_NOC', 'PROCEDURE_OPE',\n",
      "       'B_ELECTRONIC_AUCTION_Y'],\n",
      "      dtype='object', length=145)\n"
     ]
    },
    {
     "data": {
      "text/plain": [
       "2875612"
      ]
     },
     "execution_count": 5,
     "metadata": {},
     "output_type": "execute_result"
    }
   ],
   "source": [
    "print(dt.columns)\n",
    "len(dt)"
   ]
  },
  {
   "cell_type": "code",
   "execution_count": 6,
   "metadata": {
    "colab": {
     "base_uri": "https://localhost:8080/",
     "height": 33
    },
    "colab_type": "code",
    "id": "56FUVhiTaq4t",
    "outputId": "a0653409-88cb-4435-9fd0-b4ae19c8fba8"
   },
   "outputs": [
    {
     "data": {
      "text/plain": [
       "2875612"
      ]
     },
     "execution_count": 6,
     "metadata": {},
     "output_type": "execute_result"
    }
   ],
   "source": [
    "dt = dt[pd.notnull(dt['AWARD_VALUE_EURO'])]\n",
    "dt = dt[dt['AWARD_VALUE_EURO'] != 0]\n",
    "len(dt)\n",
    "\n"
   ]
  },
  {
   "cell_type": "code",
   "execution_count": 7,
   "metadata": {
    "colab": {
     "base_uri": "https://localhost:8080/",
     "height": 33
    },
    "colab_type": "code",
    "id": "y983RQy_2OiQ",
    "outputId": "01c4db85-01bc-43e3-b3a0-1bfba965a96d"
   },
   "outputs": [
    {
     "data": {
      "text/plain": [
       "1476395"
      ]
     },
     "execution_count": 7,
     "metadata": {},
     "output_type": "execute_result"
    }
   ],
   "source": [
    "dt = dt[pd.notnull(dt['AWARD_EST_VALUE_EURO'])]\n",
    "dt = dt[dt['AWARD_EST_VALUE_EURO'] != 0]\n",
    "len(dt)\n",
    "\n"
   ]
  },
  {
   "cell_type": "code",
   "execution_count": 8,
   "metadata": {
    "colab": {
     "base_uri": "https://localhost:8080/",
     "height": 33
    },
    "colab_type": "code",
    "id": "tvW0BfKb2Wc6",
    "outputId": "627e9679-ad10-4dcc-a52e-70d6cc10666b"
   },
   "outputs": [
    {
     "data": {
      "text/plain": [
       "1433056"
      ]
     },
     "execution_count": 8,
     "metadata": {},
     "output_type": "execute_result"
    }
   ],
   "source": [
    "dt = dt[pd.notnull(dt['NUMBER_OFFERS'])]\n",
    "dt = dt[dt['NUMBER_OFFERS'] != 0]\n",
    "len(dt)"
   ]
  },
  {
   "cell_type": "code",
   "execution_count": 9,
   "metadata": {
    "colab": {
     "base_uri": "https://localhost:8080/",
     "height": 33
    },
    "colab_type": "code",
    "id": "URwhUOth2e0v",
    "outputId": "64c3e1db-1627-4c27-8b52-c9784a97f36d"
   },
   "outputs": [
    {
     "data": {
      "text/plain": [
       "1433056"
      ]
     },
     "execution_count": 9,
     "metadata": {},
     "output_type": "execute_result"
    }
   ],
   "source": [
    "import numpy as np\n",
    "dt['LNRATIO']=(np.log(dt['AWARD_VALUE_EURO']/dt['AWARD_EST_VALUE_EURO']))\n",
    "len(dt)\n"
   ]
  },
  {
   "cell_type": "code",
   "execution_count": 10,
   "metadata": {
    "colab": {},
    "colab_type": "code",
    "id": "lWmCx0iO3xmt"
   },
   "outputs": [],
   "source": [
    "#log of 'df_train['month'] = pd.to_datetime(df_train.Date).dt.month\n",
    "dt['LN_AWARD_VALUE_EURO'] = np.log(dt['AWARD_VALUE_EURO'])\n",
    "dt['LN_AWARD_EST_VALUE_EURO'] = np.log(dt['AWARD_EST_VALUE_EURO'])"
   ]
  },
  {
   "cell_type": "code",
   "execution_count": 11,
   "metadata": {},
   "outputs": [],
   "source": [
    "sd=dt['LNRATIO'].std()\n",
    "mn=dt['LNRATIO'].mean()\n",
    "ub=mn+3*sd\n",
    "lb=mn-3*sd"
   ]
  },
  {
   "cell_type": "code",
   "execution_count": 12,
   "metadata": {
    "colab": {},
    "colab_type": "code",
    "id": "PAo227hHrP6S"
   },
   "outputs": [],
   "source": [
    "dt = dt[(dt.LNRATIO>lb) & (dt.LNRATIO<ub)]\n"
   ]
  },
  {
   "cell_type": "code",
   "execution_count": 13,
   "metadata": {
    "colab": {},
    "colab_type": "code",
    "id": "i-GP06HGl_lG"
   },
   "outputs": [],
   "source": [
    "train=dt[(dt.YEAR<2017)]\n",
    "test=dt[(dt.YEAR==2017)]"
   ]
  },
  {
   "cell_type": "code",
   "execution_count": 14,
   "metadata": {
    "colab": {},
    "colab_type": "code",
    "id": "4Bm9jfr_l_1N"
   },
   "outputs": [],
   "source": [
    "y_train = train['LNRATIO']\n",
    "X_train = train.drop(['AWARD_VALUE_EURO', 'AWARD_EST_VALUE_EURO', 'LNRATIO', 'LN_AWARD_VALUE_EURO'], axis=1)\n",
    "y_test = test['LNRATIO']\n",
    "X_test = test.drop(['AWARD_VALUE_EURO', 'AWARD_EST_VALUE_EURO',  'LNRATIO' ,'LN_AWARD_VALUE_EURO'], axis=1)\n"
   ]
  },
  {
   "cell_type": "code",
   "execution_count": 15,
   "metadata": {},
   "outputs": [],
   "source": [
    "import math\n",
    "from scipy.stats import spearmanr\n",
    "def rmse(x,y): return math.sqrt(((x-y)**2).mean())\n",
    "def print_score(m):\n",
    "    print('Train rmse '+str(rmse(m.predict(X_train), y_train))) \n",
    "    print('Test  rmse '+str(rmse(m.predict(X_test), y_test)))\n",
    "    print('Train '+str(spearmanr(m.predict(X_train),y_train)))\n",
    "    print('Test  '+str(spearmanr(m.predict(X_test),y_test)))"
   ]
  },
  {
   "cell_type": "code",
   "execution_count": 16,
   "metadata": {},
   "outputs": [],
   "source": [
    "import numpy as np\n",
    "from scipy.stats import randint as sp_randint\n",
    "from scipy.stats import uniform as sp_uniform\n",
    " \n",
    "from sklearn.datasets import load_boston\n",
    "from sklearn.model_selection import (cross_val_score, train_test_split, \n",
    "                                     GridSearchCV, RandomizedSearchCV)\n",
    "from sklearn.metrics import r2_score\n",
    " \n",
    "from lightgbm.sklearn import LGBMRegressor"
   ]
  },
  {
   "cell_type": "code",
   "execution_count": 17,
   "metadata": {},
   "outputs": [],
   "source": [
    "from functools import partial\n",
    "from hyperopt import fmin, hp, tpe, Trials, space_eval\n",
    " \n",
    "# Define searched space\n",
    "hyper_space = {'n_estimators': 1000+ hp.randint('n_estimators', 1000),\n",
    "               'max_depth':  hp.choice('max_depth', [4, 5, 8, -1]),\n",
    "               'num_leaves': hp.choice('num_leaves', [15, 31, 63, 127]),\n",
    "               'subsample': hp.uniform('subsample', 0.6, 1.0),\n",
    "               'colsample_bytree': hp.uniform('colsample_bytree', 0.6, 1.0)}"
   ]
  },
  {
   "cell_type": "code",
   "execution_count": 18,
   "metadata": {},
   "outputs": [],
   "source": [
    "def evaluate(params, X, y):\n",
    "    \n",
    "    # Initilize instance of estimator\n",
    "    est = LGBMRegressor(boosting='gbdt', n_jobs=-1, random_state=2018)\n",
    "    \n",
    "    # Set params\n",
    "    est.set_params(**params)\n",
    "    \n",
    "    # Calc CV score\n",
    "    scores = cross_val_score(estimator=est, X=X, y=y, \n",
    "                            scoring='neg_mean_squared_error', cv=4)\n",
    "    score = np.mean(scores)\n",
    " \n",
    "    return score\n",
    " \n",
    "# Objective minizmied \n",
    "hyperopt_objective = lambda params: (-1)*evaluate(params, X_train, y_train)"
   ]
  },
  {
   "cell_type": "code",
   "execution_count": 19,
   "metadata": {},
   "outputs": [
    {
     "name": "stdout",
     "output_type": "stream",
     "text": [
      "100%|██████████| 60/60 [3:17:21<00:00, 171.83s/it, best loss: 0.23536797479608532]\n",
      "BEST PARAMETERS: {'colsample_bytree': 0.6154519141597878, 'max_depth': 8, 'n_estimators': 1216, 'num_leaves': 31, 'subsample': 0.7841552053418989}\n",
      "BEST CV SCORE: -0.23962693369074092\n",
      "ELAPSED TIME: 194.47948333333335\n"
     ]
    }
   ],
   "source": [
    "# Trail\n",
    "trials = Trials()\n",
    " \n",
    "# Set algoritm parameters\n",
    "algo = partial(tpe.suggest, \n",
    "               n_startup_jobs=20, gamma=0.25, n_EI_candidates=24)\n",
    " \n",
    "# Fit Tree Parzen Estimator\n",
    "best_vals = fmin(hyperopt_objective, space=hyper_space,\n",
    "                 algo=algo, max_evals=60, trials=trials,\n",
    "                 rstate=np.random.RandomState(seed=2018))\n",
    " \n",
    "# Print best parameters\n",
    "best_params = space_eval(hyper_space, best_vals)\n",
    "print(\"BEST PARAMETERS: \" + str(best_params))\n",
    " \n",
    "# Print best CV score\n",
    "scores = [-trial['result']['loss'] for trial in trials.trials]\n",
    "print(\"BEST CV SCORE: \" + str(np.min(scores)))\n",
    " \n",
    "# Print execution time\n",
    "tdiff = trials.trials[-1]['book_time'] - trials.trials[0]['book_time']\n",
    "print(\"ELAPSED TIME: \" + str(tdiff.total_seconds() / 60))"
   ]
  },
  {
   "cell_type": "code",
   "execution_count": 20,
   "metadata": {},
   "outputs": [
    {
     "name": "stdout",
     "output_type": "stream",
     "text": [
      "RMSE SCORE ON TEST DATA: 0.4920816778967577\n",
      "R2 SCORE ON TEST DATA: 0.15368483750128492\n"
     ]
    }
   ],
   "source": [
    "# Set params\n",
    "\n",
    "est = LGBMRegressor(**best_params) \n",
    "# Fit    \n",
    "est.fit(X_train, y_train)\n",
    "y_pred = est.predict(X_test)\n",
    " \n",
    "# Predict\n",
    "score = rmse(y_test, y_pred)\n",
    "r2a = r2_score(y_test, y_pred)\n",
    "print(\"RMSE SCORE ON TEST DATA: {}\".format(score))\n",
    "print(\"R2 SCORE ON TEST DATA: {}\".format(r2a))"
   ]
  }
 ],
 "metadata": {
  "colab": {
   "collapsed_sections": [],
   "name": "EUAuction200419.ipynb",
   "provenance": [],
   "version": "0.3.2"
  },
  "kernelspec": {
   "display_name": "Python 3",
   "name": "python3"
  }
 },
 "nbformat": 4,
 "nbformat_minor": 1
}
